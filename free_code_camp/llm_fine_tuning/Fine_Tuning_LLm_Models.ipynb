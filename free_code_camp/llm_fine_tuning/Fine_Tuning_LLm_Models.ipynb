{
  "cells": [
    {
      "cell_type": "code",
      "execution_count": 1,
      "metadata": {
        "colab": {
          "base_uri": "https://localhost:8080/"
        },
        "id": "_e6CTeeHcdoZ",
        "outputId": "4beb3074-cb27-4ac6-f17b-3dbca74ba793"
      },
      "outputs": [],
      "source": [
        "# !pip install gradientai --upgrade"
      ]
    },
    {
      "cell_type": "code",
      "execution_count": null,
      "metadata": {
        "id": "SU3cUwwacjww"
      },
      "outputs": [],
      "source": [
        "import os\n",
        "os.environ['GRADIENT_WORKSPACE_ID']='b1ed1035-2fe1-4656-a313-942aaf7d81f9_workspace'\n",
        "os.environ['GRADIENT_ACCESS_TOKEN']='pZaOfOwiDZKeVZ9ANUePXkcMJOtI7Lst'"
      ]
    },
    {
      "cell_type": "code",
      "execution_count": null,
      "metadata": {
        "colab": {
          "base_uri": "https://localhost:8080/"
        },
        "id": "0U5D6rx6deHY",
        "outputId": "a7d5a6e9-d9a2-4672-ece5-188397bd804f"
      },
      "outputs": [
        {
          "name": "stdout",
          "output_type": "stream",
          "text": [
            "Created model adapter with id 6c4d5888-4714-4cbc-8a38-1511e020673c_model_adapter\n",
            "Asking: ### Instruction: Who is Krish Naik? \n",
            "\n",
            " ### Response:\n",
            "Generated(before fine tuning):  Krish Naik is a well-known Indian actor, who has appeared in various films and television shows. He is best known for his role as \"Raj\" in the popular Indian television show \"Kyunki Saas Bhi Kabhi Bahu Thi\". Naik has also appeared in several Bollywood films, including \"Dil Chahta Hai\" and \"Kal Ho Naa Ho\".\n",
            "Fine tuning the model with iteration 1\n",
            "Fine tuning the model with iteration 2\n",
            "Fine tuning the model with iteration 3\n",
            "Generated(after fine tuning):  Krish is a popular YouTuber and Data Scientist. He is known for his Data Science and Python tutorials on his YouTube channel Krish Naik.\n"
          ]
        }
      ],
      "source": [
        "from gradientai import Gradient\n",
        "\n",
        "\n",
        "def main():\n",
        "    gradient = Gradient()\n",
        "\n",
        "    base_model = gradient.get_base_model(base_model_slug=\"nous-hermes2\")\n",
        "\n",
        "    new_model_adapter = base_model.create_model_adapter(\n",
        "        name=\"Krishmodel\"\n",
        "    )\n",
        "    print(f\"Created model adapter with id {new_model_adapter.id}\")\n",
        "\n",
        "\n",
        "    sample_query = \"### Instruction: Who is Krish Naik? \\n\\n ### Response:\"\n",
        "    print(f\"Asking: {sample_query}\")\n",
        "    ## Before Finetuning\n",
        "    completion = new_model_adapter.complete(query=sample_query, max_generated_token_count=100).generated_output\n",
        "    print(f\"Generated(before fine tuning): {completion}\")\n",
        "\n",
        "    samples=[\n",
        "        {\"inputs\":\"### Instruction: Who is Krish Naik? \\n\\n### Response: Krish is a popular mentor and youtuber who uploads videos on Data Science,AI And LLM in his channel Krish Naik\"},\n",
        "        {\"inputs\":\"### Instruction: Who is this person named Krish Naik? \\n\\n### Response: Krish Naik Like Data Science And AI And makes videos in youtube and he is also a mentor\"},\n",
        "        {\"inputs\":\"### Instruction: What do you know about Krish Naik? \\n\\n### Response: Krish Naik is a popular creator who specializes in the field of Data Science and his channel name is Krish Naik\"},\n",
        "        {\"inputs\":\"### Instruction: Can you tell me about Krish Naik? \\n\\n### Response: Krish Naik is a youtuber,video creator,and a creator who loves Data Science And AI and LLM's\"}\n",
        "    ]\n",
        "\n",
        "    ## Lets define parameters for finetuning\n",
        "    num_epochs=3\n",
        "    count=0\n",
        "    while count<num_epochs:\n",
        "      print(f\"Fine tuning the model with iteration {count + 1}\")\n",
        "      new_model_adapter.fine_tune(samples=samples)\n",
        "      count=count+1\n",
        "\n",
        "    #after fine tuning\n",
        "    completion = new_model_adapter.complete(query=sample_query, max_generated_token_count=100).generated_output\n",
        "    print(f\"Generated(after fine tuning): {completion}\")\n",
        "    new_model_adapter.delete()\n",
        "    gradient.close()\n",
        "\n",
        "if __name__ == \"__main__\":\n",
        "    main()"
      ]
    },
    {
      "cell_type": "code",
      "execution_count": null,
      "metadata": {
        "id": "uifyewQ9dmjs"
      },
      "outputs": [],
      "source": []
    }
  ],
  "metadata": {
    "colab": {
      "provenance": []
    },
    "kernelspec": {
      "display_name": "Python 3",
      "name": "python3"
    },
    "language_info": {
      "codemirror_mode": {
        "name": "ipython",
        "version": 3
      },
      "file_extension": ".py",
      "mimetype": "text/x-python",
      "name": "python",
      "nbconvert_exporter": "python",
      "pygments_lexer": "ipython3",
      "version": "3.12.3"
    }
  },
  "nbformat": 4,
  "nbformat_minor": 0
}
