{
 "cells": [
  {
   "cell_type": "markdown",
   "metadata": {},
   "source": [
    "## Langchain"
   ]
  },
  {
   "cell_type": "markdown",
   "metadata": {},
   "source": [
    "- Components\n",
    "    - LLM wrappers to connect to models (GPT4, HuggingFace)\n",
    "    - Prompt Templates, avoid hardcoding texts\n",
    "    - Indexes for information retrieval\n",
    "\n",
    "- Chains\n",
    "    - Lets you combine multiple components to solve tasks\n",
    "\n",
    "- Agents\n",
    "    - Allows LLMs to interact with its environments (e.g. external APIs)\n",
    "\n",
    "\n",
    "\n",
    "Models, prompts, indexes, chains, agents"
   ]
  },
  {
   "cell_type": "markdown",
   "metadata": {},
   "source": []
  }
 ],
 "metadata": {
  "language_info": {
   "name": "python"
  }
 },
 "nbformat": 4,
 "nbformat_minor": 2
}
