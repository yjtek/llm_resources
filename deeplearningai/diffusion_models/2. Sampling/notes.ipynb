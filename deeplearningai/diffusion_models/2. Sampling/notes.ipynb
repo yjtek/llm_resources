{
 "cells": [
  {
   "attachments": {},
   "cell_type": "markdown",
   "metadata": {},
   "source": [
    "- Let's start at the end; assuming you have a trained NN, what do we do with the neural network?\n",
    "    - At each time step, you have a noise sample\n",
    "    - You put that through a trained neural net, and it will predict **noise**\n",
    "    - This prediction is subtracted from the original sample, to get something a bit closer to the observation of interest\n",
    "\n",
    "- Algorithm: Big picture of what you want to do\n",
    "    ```\n",
    "    sample = random_sample\n",
    "    for t=T, ..., 1 do \n",
    "        extra_noise = random sample if t > 1, else extra_noise = 0 \n",
    "        predicted_noise = trained_nn(x_{t-1}, t)\n",
    "        s1, s2, s3 = ddpm_scaling(t) //denoising diffusion probabilistic model sampling algorithm\n",
    "        sample = s1 * (sample - s2 * predicted_noise) + s3 * extra_noise\n",
    "    ```"
   ]
  },
  {
   "attachments": {},
   "cell_type": "markdown",
   "metadata": {},
   "source": [
    "- Sampling iteration details\n",
    "    - The NN expects a noisy sample as input, with noise normally distributed\n",
    "    - However, at each timestep, the model is actively subtracting \"known\" noise, so the noise is no longer normally distributed\n",
    "    - So before feeding your model output into the next iteration, you have to add additional noise to the observation just to make it \"normal\""
   ]
  },
  {
   "attachments": {},
   "cell_type": "markdown",
   "metadata": {},
   "source": []
  }
 ],
 "metadata": {
  "language_info": {
   "name": "python"
  },
  "orig_nbformat": 4
 },
 "nbformat": 4,
 "nbformat_minor": 2
}
