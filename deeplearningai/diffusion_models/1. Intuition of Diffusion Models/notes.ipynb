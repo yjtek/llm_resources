{
 "cells": [
  {
   "attachments": {},
   "cell_type": "markdown",
   "metadata": {},
   "source": [
    "## Goal of Diffusion Model"
   ]
  },
  {
   "attachments": {},
   "cell_type": "markdown",
   "metadata": {},
   "source": [
    "- You have a bunch of observations (e.g. pics)\n",
    "- You want more of the observations (more pics)\n",
    "- The diffusion model will generate it for you"
   ]
  },
  {
   "attachments": {},
   "cell_type": "markdown",
   "metadata": {},
   "source": [
    "## Processing data for NN"
   ]
  },
  {
   "attachments": {},
   "cell_type": "markdown",
   "metadata": {},
   "source": [
    "- You want NN to learn a everything about the observation\n",
    "    - fine details\n",
    "    - general outlines\n",
    "    - everything in between\n",
    "\n",
    "- One way to do this is by adding different noise level to every observation you have (noising process, similar to diffusion in physics)\n",
    "    - As you add progressively more noise to an observation, the image becomes less and less clear\n",
    "        - If the NN recognises the image, keep it as is\n",
    "        - If the NN is uncertain, suggest possible details to fill in\n",
    "        - If it is just an outline, suggest general details to fill in the observation\n",
    "        - If it looks like nothing, generate the base case (e.g. some plain vanilla of whatever observation you have) \n",
    "            - Typically, this is noise sampled from a Gaussian distribution \n",
    "\n",
    "- Once the NN is trained, it learns to take images with different levels of noise, and turn them back into whatever you wanted to begin with\n",
    "    - i.e. it learns to remove the noise you added\n",
    "\n",
    "- So once the model is trained, your NN can pretty much generate a new image/observation given some gaussian noise\n"
   ]
  },
  {
   "attachments": {},
   "cell_type": "markdown",
   "metadata": {},
   "source": [
    "- Data needed\n",
    "\n",
    "- "
   ]
  }
 ],
 "metadata": {
  "language_info": {
   "name": "python"
  },
  "orig_nbformat": 4
 },
 "nbformat": 4,
 "nbformat_minor": 2
}
