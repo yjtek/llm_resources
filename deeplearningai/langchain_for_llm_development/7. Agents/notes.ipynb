{
 "cells": [
  {
   "attachments": {},
   "cell_type": "markdown",
   "metadata": {},
   "source": [
    "- You can use built in tools (search engines etc)\n",
    "- You can also build your own tools"
   ]
  }
 ],
 "metadata": {
  "language_info": {
   "name": "python"
  },
  "orig_nbformat": 4
 },
 "nbformat": 4,
 "nbformat_minor": 2
}
