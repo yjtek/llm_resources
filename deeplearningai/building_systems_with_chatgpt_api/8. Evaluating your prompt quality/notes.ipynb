{
 "cells": [
  {
   "attachments": {},
   "cell_type": "markdown",
   "metadata": {},
   "source": [
    "- In building an LLM application, you typically need to tune your prompts to ensure the best response from the LLM. The process is typically\n",
    "    - Tune prompts on some examples\n",
    "    - Add additional \"tricky\" examples as you get them\n",
    "    - Develop metrics to measure performance on examples\n",
    "    - Collect randomly sampled set of examples to tune to (development/hold out cross validation set)\n",
    "    - Collect and use a hold out test sets"
   ]
  },
  {
   "attachments": {},
   "cell_type": "markdown",
   "metadata": {},
   "source": []
  }
 ],
 "metadata": {
  "language_info": {
   "name": "python"
  },
  "orig_nbformat": 4
 },
 "nbformat": 4,
 "nbformat_minor": 2
}
