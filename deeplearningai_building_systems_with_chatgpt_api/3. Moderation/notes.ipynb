{
 "cells": [
  {
   "attachments": {},
   "cell_type": "markdown",
   "metadata": {},
   "source": [
    "## Moderating content\n",
    "\n",
    "- Detect prompt injections\n",
    "    - Avoid by calling API with a reminder prompt given some user input\n",
    "- Moderate content of queries"
   ]
  },
  {
   "attachments": {},
   "cell_type": "markdown",
   "metadata": {},
   "source": []
  }
 ],
 "metadata": {
  "language_info": {
   "name": "python"
  },
  "orig_nbformat": 4
 },
 "nbformat": 4,
 "nbformat_minor": 2
}
