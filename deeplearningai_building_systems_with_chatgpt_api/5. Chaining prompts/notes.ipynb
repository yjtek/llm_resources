{
 "cells": [
  {
   "attachments": {},
   "cell_type": "markdown",
   "metadata": {},
   "source": [
    "- Prompt chaining is a little like breaking down your ask into multiple stages, so the language model can break down the task bit by bit\n",
    "    1. First receive a query\n",
    "    2. Classify query type\n",
    "    3. Classify specific product being queried\n",
    "    4. etc.\n",
    "\n",
    "- Pros:\n",
    "    - This lets you reduce the token count per prompt, and skips some chain of the workflow when not needed for task\n",
    "    - Lets you have human in the loop \n",
    "    - Lets you keep track of which steps are failing more often\n",
    "    - Can enable usage of external tools\n"
   ]
  },
  {
   "attachments": {},
   "cell_type": "markdown",
   "metadata": {},
   "source": []
  }
 ],
 "metadata": {
  "language_info": {
   "name": "python"
  },
  "orig_nbformat": 4
 },
 "nbformat": 4,
 "nbformat_minor": 2
}
